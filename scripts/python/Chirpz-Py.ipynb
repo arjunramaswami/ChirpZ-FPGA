{
 "cells": [
  {
   "cell_type": "code",
   "execution_count": 1,
   "source": [
    "import numpy as np"
   ],
   "outputs": [],
   "metadata": {}
  },
  {
   "cell_type": "code",
   "execution_count": 24,
   "source": [
    "num = 31\n",
    "chirp_num = 64"
   ],
   "outputs": [],
   "metadata": {}
  },
  {
   "cell_type": "markdown",
   "source": [
    "### Testing output with all one input for 1d and 2d FFT"
   ],
   "metadata": {}
  },
  {
   "cell_type": "code",
   "execution_count": 25,
   "source": [
    "inp_ones = np.ones((num, num), dtype=complex)\n",
    "out_fft1d = np.fft.fft(inp_ones)\n",
    "out_fft2d = np.fft.fft2(inp_ones)\n",
    "#print(out_fft2d)"
   ],
   "outputs": [],
   "metadata": {}
  },
  {
   "cell_type": "markdown",
   "source": [
    "### Testing output with increasing index value for 2d FFT"
   ],
   "metadata": {}
  },
  {
   "cell_type": "code",
   "execution_count": 26,
   "source": [
    "vec2d = np.arange(num*num, dtype=complex)\n",
    "vec =  vec2d.reshape([num,num])\n",
    "test = np.fft.fft2(vec)\n",
    "#print(test)"
   ],
   "outputs": [],
   "metadata": {}
  },
  {
   "cell_type": "markdown",
   "source": [
    "### Test case by performing 2D FFT using 1D FFTs"
   ],
   "metadata": {}
  },
  {
   "cell_type": "code",
   "execution_count": 27,
   "source": [
    "vec_test = np.arange(num*num, dtype=complex)\n",
    "vec =  vec_test.reshape([num,num])\n",
    "vec = np.fft.fft(vec)\n",
    "vec_transpose = np.transpose(vec)\n",
    "#vec_output = np.fft.fft(vec_transpose)\n",
    "#vec_out = np.transpose(vec_output)\n",
    "#print(vec)\n",
    "#print(vec_transpose)\n",
    "#print(vec_output)\n",
    "#print(vec_out)"
   ],
   "outputs": [],
   "metadata": {}
  },
  {
   "cell_type": "markdown",
   "source": [
    "### Understanding 1D FFT Chirp by comparing to Python Output"
   ],
   "metadata": {}
  },
  {
   "cell_type": "code",
   "execution_count": 28,
   "source": [
    "num = 31\n",
    "chirp_num = 64\n",
    "#vec1d = np.ones(num, dtype=complex)\n",
    "vec1d = np.arange(num, dtype=complex)\n",
    "#print(vec1d)"
   ],
   "outputs": [],
   "metadata": {}
  },
  {
   "cell_type": "code",
   "execution_count": 29,
   "source": [
    "W = complex(np.exp(-1j * 2 * np.pi / num))\n",
    "A = 1.0\n",
    "#print(W)"
   ],
   "outputs": [],
   "metadata": {}
  },
  {
   "cell_type": "code",
   "execution_count": 30,
   "source": [
    "cosx = np.cos(2 * np.pi / num)\n",
    "sinx = -np.sin(2 * np.pi / num)\n",
    "\n",
    "complex(cosx, sinx)"
   ],
   "outputs": [
    {
     "output_type": "execute_result",
     "data": {
      "text/plain": [
       "(0.9795299412524945-0.20129852008866006j)"
      ]
     },
     "metadata": {},
     "execution_count": 30
    }
   ],
   "metadata": {}
  },
  {
   "cell_type": "code",
   "execution_count": 31,
   "source": [
    "n = np.arange(num, dtype=float)\n",
    "y = np.power(A, -n) * np.power(W, n ** 2 / 2.) *  vec1d\n",
    "#print(y)\n",
    "\n",
    "### Testing complex matrix multiplication used calculate y above\n",
    "temp_complex = np.power(A, -n) * np.power(W, n ** 2 / 2.)\n",
    "#print(temp_complex)\n",
    "\n",
    "xreal = [((temp_complex[i].real * vec1d[i].real) - (temp_complex[i].imag * vec1d[i].imag))  for i in range(0, len(temp_complex))]\n",
    "yreal = [((temp_complex[i].real * vec1d[i].imag) + (temp_complex[i].imag * vec1d[i].real)) for i in range(0, len(temp_complex))]\n",
    "\n",
    "#for i in range(0, len(xreal)):\n",
    "#  print(complex(xreal[i], yreal[i]))"
   ],
   "outputs": [],
   "metadata": {}
  },
  {
   "cell_type": "code",
   "execution_count": 32,
   "source": [
    "yF = np.fft.fft(y, chirp_num)\n",
    "#print(yF)"
   ],
   "outputs": [],
   "metadata": {}
  },
  {
   "cell_type": "code",
   "execution_count": 33,
   "source": [
    "### testing Filter\n",
    "\n",
    "L = chirp_num\n",
    "N = num\n",
    "n = np.arange(num, dtype=float)\n",
    "v = np.zeros(chirp_num, dtype=complex)\n",
    "#print(len(v), num)\n",
    "\n",
    "W = complex(np.exp(-1j * 2 * np.pi / num))\n",
    "for i in range(num):\n",
    "    v[i] = np.power(W, -i ** 2 / 2.0)\n",
    "\n",
    "#v[:num] = np.power(W, -n[:num] ** 2 / 2.)\n",
    "for i in range(L-N+1, L):\n",
    "    v[i] = W**(-((L-i)**2.0)/2.0)\n",
    "\n",
    "#print(v)\n",
    "vF = np.fft.fft(v, chirp_num)\n",
    "#print(vF)"
   ],
   "outputs": [],
   "metadata": {}
  },
  {
   "cell_type": "code",
   "execution_count": 34,
   "source": [
    "Gr = yF * vF\n",
    "#print(Gr)"
   ],
   "outputs": [],
   "metadata": {}
  },
  {
   "cell_type": "code",
   "execution_count": 35,
   "source": [
    "greal = [((yF[i].real * vF[i].real) - (yF[i].imag * vF[i].imag))  for i in range(0, len(yF))]\n",
    "gimag = [((yF[i].real * vF[i].imag) + (yF[i].imag * vF[i].real)) for i in range(0, len(yF))]\n",
    "\n",
    "#for i in range(0, len(greal)):\n",
    "#  print(i, complex(greal[i], gimag[i]), Gr[i])"
   ],
   "outputs": [],
   "metadata": {}
  },
  {
   "cell_type": "code",
   "execution_count": 36,
   "source": [
    "gk = np.fft.ifft(Gr)\n",
    "#print(len(Gr))\n",
    "#print(gk)"
   ],
   "outputs": [],
   "metadata": {}
  },
  {
   "cell_type": "code",
   "execution_count": 37,
   "source": [
    "W = complex(np.exp(-1j * 2 * np.pi / num))\n",
    "Xk = np.zeros(num, dtype=np.complex128)\n",
    "for k in range(num):\n",
    "    g_scale = W**((k**2.0)/2.0) \n",
    "    Xk[k] = g_scale * gk[k]\n",
    "    \n",
    "#print(Xk)"
   ],
   "outputs": [],
   "metadata": {}
  },
  {
   "cell_type": "code",
   "execution_count": 38,
   "source": [
    "vec1d = np.ones(num, dtype=complex)\n",
    "np.fft.fft(vec1d)"
   ],
   "outputs": [
    {
     "output_type": "execute_result",
     "data": {
      "text/plain": [
       "array([ 3.10000000e+01+0.j, -2.22044605e-16+0.j, -4.44089210e-16+0.j,\n",
       "        0.00000000e+00+0.j,  4.44089210e-16+0.j,  4.44089210e-16+0.j,\n",
       "        0.00000000e+00+0.j,  0.00000000e+00+0.j,  2.22044605e-16+0.j,\n",
       "        2.22044605e-16+0.j,  2.22044605e-16+0.j,  2.22044605e-16+0.j,\n",
       "        2.22044605e-16+0.j,  0.00000000e+00+0.j,  1.11022302e-16+0.j,\n",
       "        1.52655666e-16+0.j,  1.52655666e-16+0.j,  1.11022302e-16+0.j,\n",
       "        0.00000000e+00+0.j,  2.22044605e-16+0.j,  2.22044605e-16+0.j,\n",
       "        2.22044605e-16+0.j,  2.22044605e-16+0.j,  2.22044605e-16+0.j,\n",
       "        0.00000000e+00+0.j,  0.00000000e+00+0.j,  4.44089210e-16+0.j,\n",
       "        4.44089210e-16+0.j,  0.00000000e+00+0.j, -4.44089210e-16+0.j,\n",
       "       -2.22044605e-16+0.j])"
      ]
     },
     "metadata": {},
     "execution_count": 38
    }
   ],
   "metadata": {}
  },
  {
   "cell_type": "markdown",
   "source": [
    "### Testing 3D FFT"
   ],
   "metadata": {}
  },
  {
   "cell_type": "code",
   "execution_count": 91,
   "source": [
    "a = np.arange(27).reshape(3,3,3)\n",
    "print(a)\n",
    "a_3d = np.transpose(a, (2,1,0))"
   ],
   "outputs": [
    {
     "output_type": "stream",
     "name": "stdout",
     "text": [
      "[[[ 0  1  2]\n",
      "  [ 3  4  5]\n",
      "  [ 6  7  8]]\n",
      "\n",
      " [[ 9 10 11]\n",
      "  [12 13 14]\n",
      "  [15 16 17]]\n",
      "\n",
      " [[18 19 20]\n",
      "  [21 22 23]\n",
      "  [24 25 26]]]\n"
     ]
    },
    {
     "output_type": "execute_result",
     "data": {
      "text/plain": [
       "array([[[ 0,  9, 18],\n",
       "        [ 3, 12, 21],\n",
       "        [ 6, 15, 24]],\n",
       "\n",
       "       [[ 1, 10, 19],\n",
       "        [ 4, 13, 22],\n",
       "        [ 7, 16, 25]],\n",
       "\n",
       "       [[ 2, 11, 20],\n",
       "        [ 5, 14, 23],\n",
       "        [ 8, 17, 26]]])"
      ]
     },
     "metadata": {},
     "execution_count": 91
    }
   ],
   "metadata": {}
  },
  {
   "cell_type": "code",
   "execution_count": 100,
   "source": [
    "a_fft1d = np.fft.fft(a)\n",
    "#print(a_fft1d)\n",
    "a_2d = np.transpose(a_fft1d, (0,2,1))\n",
    "#print(a_2d)\n",
    "a_fft2d = np.fft.fft(a_2d)\n",
    "#print(a_fft2d)\n",
    "a_2d_2 = np.transpose(a_fft2d, (0,2,1))\n",
    "a_3d = np.transpose(a_2d_2, (2,1,0))\n",
    "a_fft3d = np.fft.fft(a_3d)\n",
    "a_final = np.transpose(a_fft3d, (2,1,0))\n",
    "print(a_final)"
   ],
   "outputs": [
    {
     "output_type": "stream",
     "name": "stdout",
     "text": [
      "[[[ 351.  +0.j          -13.5 +7.79422863j  -13.5 -7.79422863j]\n",
      "  [ -40.5+23.3826859j     0.  +0.j            0.  +0.j        ]\n",
      "  [ -40.5-23.3826859j     0.  +0.j            0.  +0.j        ]]\n",
      "\n",
      " [[-121.5+70.14805771j    0.  +0.j            0.  +0.j        ]\n",
      "  [   0.  +0.j            0.  +0.j            0.  +0.j        ]\n",
      "  [   0.  +0.j            0.  +0.j            0.  +0.j        ]]\n",
      "\n",
      " [[-121.5-70.14805771j    0.  +0.j            0.  +0.j        ]\n",
      "  [   0.  +0.j            0.  +0.j            0.  +0.j        ]\n",
      "  [   0.  +0.j            0.  +0.j            0.  +0.j        ]]]\n"
     ]
    }
   ],
   "metadata": {}
  },
  {
   "cell_type": "code",
   "execution_count": 101,
   "source": [
    "np.fft.fftn(a)"
   ],
   "outputs": [
    {
     "output_type": "execute_result",
     "data": {
      "text/plain": [
       "array([[[ 351.  +0.j        ,  -13.5 +7.79422863j,  -13.5 -7.79422863j],\n",
       "        [ -40.5+23.3826859j ,    0.  +0.j        ,    0.  +0.j        ],\n",
       "        [ -40.5-23.3826859j ,    0.  +0.j        ,    0.  +0.j        ]],\n",
       "\n",
       "       [[-121.5+70.14805771j,    0.  +0.j        ,    0.  +0.j        ],\n",
       "        [   0.  +0.j        ,    0.  +0.j        ,    0.  +0.j        ],\n",
       "        [   0.  +0.j        ,    0.  +0.j        ,    0.  +0.j        ]],\n",
       "\n",
       "       [[-121.5-70.14805771j,    0.  +0.j        ,    0.  +0.j        ],\n",
       "        [   0.  +0.j        ,    0.  +0.j        ,    0.  +0.j        ],\n",
       "        [   0.  +0.j        ,    0.  +0.j        ,    0.  +0.j        ]]])"
      ]
     },
     "metadata": {},
     "execution_count": 101
    }
   ],
   "metadata": {}
  }
 ],
 "metadata": {
  "kernelspec": {
   "display_name": "Python 3 (ipykernel)",
   "language": "python",
   "name": "python3"
  },
  "language_info": {
   "codemirror_mode": {
    "name": "ipython",
    "version": 3
   },
   "file_extension": ".py",
   "mimetype": "text/x-python",
   "name": "python",
   "nbconvert_exporter": "python",
   "pygments_lexer": "ipython3",
   "version": "3.9.6"
  }
 },
 "nbformat": 4,
 "nbformat_minor": 5
}